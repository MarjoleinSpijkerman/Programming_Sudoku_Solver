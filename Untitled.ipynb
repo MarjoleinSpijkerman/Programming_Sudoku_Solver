{
 "cells": [
  {
   "cell_type": "code",
   "execution_count": 26,
   "metadata": {},
   "outputs": [],
   "source": [
    "class Sudoku:\n",
    "    def __init__(self, sudoku):\n",
    "        self.sudoku = sudoku\n",
    "    \n",
    "\n",
    "\n",
    "    def printSudoku(self):\n",
    "        print(self.sudoku)\n",
    "    \n",
    "\n",
    "    \n",
    "    \n",
    "    "
   ]
  },
  {
   "cell_type": "code",
   "execution_count": 27,
   "metadata": {},
   "outputs": [
    {
     "name": "stdout",
     "output_type": "stream",
     "text": [
      "[[2, 1, 6, 8, 5, 3, 9, 4, 7], [5, 2, 1, 3, 4, 9, 7, 6, 8], [3, 9, 8, 4, 6, 7, 2, 5, 1], [8, 4, 7, 2, 1, 5, 6, 9, 3], [6, 3, 5, 9, 7, 1, 4, 8, 2], [9, 7, 4, 1, 8, 2, 5, 3, 6], [4, 8, 3, 7, 9, 6, 1, 2, 5], [7, 5, 2, 6, 3, 4, 8, 1, 9], [1, 6, 9, 5, 2, 8, 3, 7, 4]]\n"
     ]
    }
   ],
   "source": [
    "sudoku1 = [[0, 1, 0, 8, 5, 0, 0, 0, 0], \n",
    "          [5, 0, 0, 0, 0, 0, 0, 0, 8],\n",
    "          [3, 9, 0, 4, 0, 7, 2, 0, 1],\n",
    "          [0, 0, 0, 0, 0, 0, 6, 9, 0], \n",
    "          [6, 0, 5, 0, 0, 0, 4, 0, 2],\n",
    "          [0, 7, 4, 0, 0, 0, 0, 0, 0],\n",
    "          [4, 0, 3, 7, 0, 6, 0, 2, 5], \n",
    "          [7, 0, 0, 0, 0, 0, 0, 0, 9],\n",
    "          [0, 0, 0, 0, 2, 8, 0, 7, 0]]\n",
    "            \n",
    "to_be_solved = Sudoku(sudoku1)\n",
    "to_be_solved.solveSudoku(0, 0)\n",
    "to_be_solved.printSudoku()\n"
   ]
  },
  {
   "cell_type": "code",
   "execution_count": 36,
   "metadata": {},
   "outputs": [
    {
     "name": "stdout",
     "output_type": "stream",
     "text": [
      "[[2, 1, 7, 8, 5, 3, 9, 4, 6], [5, 4, 6, 2, 1, 9, 7, 3, 8], [3, 9, 8, 4, 6, 7, 2, 5, 1], [8, 2, 1, 3, 4, 5, 6, 9, 7], [6, 3, 5, 9, 7, 1, 4, 8, 2], [9, 7, 4, 6, 8, 2, 5, 1, 3], [4, 8, 3, 7, 9, 6, 1, 2, 5], [7, 5, 2, 1, 3, 4, 8, 6, 9], [1, 6, 9, 5, 2, 8, 3, 7, 4]]\n"
     ]
    }
   ],
   "source": [
    "class Sudoku:\n",
    "    def __init__(self, sudoku):\n",
    "        self.sudoku = sudoku\n",
    "        \n",
    "    def find_possible_digits(self, row, column):\n",
    "        possible = [1, 2, 3, 4, 5, 6, 7, 8, 9]\n",
    "        \n",
    "        for i in range(9):\n",
    "            if self.sudoku[row][i] != 0:\n",
    "                if self.sudoku[row][i] in possible:\n",
    "                    possible.remove(self.sudoku[row][i])\n",
    "\n",
    "        for i in range(9):\n",
    "            if self.sudoku[i][column] !=  0:\n",
    "                if self.sudoku[i][column] in possible:\n",
    "                    possible.remove(self.sudoku[i][column])\n",
    "\n",
    "        \n",
    "        r0 = row - row%3\n",
    "        r1 = r0 + 3\n",
    "        k0 = column - column%3\n",
    "        k1 = k0 + 3\n",
    "        \n",
    "        while r0 < r1:\n",
    "            while k0 < k1:\n",
    "                if self.sudoku[r0][k0] != 0:\n",
    "                    if self.sudoku[r0][k0] in possible:\n",
    "                        possible.remove(self.sudoku[r0][k0])\n",
    "                k0+=1\n",
    "            r0+=1\n",
    "\n",
    "        return possible\n",
    "\n",
    "    def solve_sudoku_recursion(self, row, column):       \n",
    "        if row == 9:\n",
    "            return True\n",
    "\n",
    "        if column < 8:\n",
    "            r = row\n",
    "            k = column+1\n",
    "\n",
    "        else:\n",
    "            r = row+1\n",
    "            k = 0\n",
    "\n",
    "        if self.sudoku[row][column] != 0:\n",
    "            return self.solve_sudoku_recursion(r, k)\n",
    "\n",
    "        for digit in range(1,10):\n",
    "            options = self.find_possible_digits(row, column)\n",
    "            if digit in options:\n",
    "            #self.digitPossible(row, column, digit):\n",
    "                self.sudoku[row][column] = digit\n",
    "                if self.solve_sudoku_recursion(r, k):\n",
    "                    return True\n",
    "                \n",
    "            self.sudoku[row][column] = 0\n",
    "\n",
    "\n",
    "    def solve_sudoku_no_recursion(self):\n",
    "        while any(0 in sublist for sublist in self.sudoku):\n",
    "            changes = 0\n",
    "            for row in range(9):\n",
    "                for column in range(9):\n",
    "                    if self.sudoku[row][column] == 0:\n",
    "                        possible = self.find_possible_digits(row, column)\n",
    "                        if len(possible) == 1:\n",
    "                            self.sudoku[row][column] = possible[0]\n",
    "                            changes += 1\n",
    "            if changes == 0:\n",
    "                break\n",
    "        if any(0 in sublist for sublist in self.sudoku):\n",
    "            self.solve_sudoku_recursion(0, 0)\n",
    "                            \n",
    "    def printSudoku(self):\n",
    "        print(self.sudoku)\n",
    "    \n",
    "sudoku1 = [[0, 1, 0, 8, 5, 0, 0, 0, 0], \n",
    "          [5, 0, 0, 0, 0, 0, 0, 0, 8],\n",
    "          [3, 9, 0, 4, 0, 7, 2, 0, 1],\n",
    "          [0, 0, 0, 0, 0, 0, 6, 9, 0], \n",
    "          [6, 0, 5, 0, 0, 0, 4, 0, 2],\n",
    "          [0, 7, 4, 0, 0, 0, 0, 0, 0],\n",
    "          [4, 0, 3, 7, 0, 6, 0, 2, 5], \n",
    "          [7, 0, 0, 0, 0, 0, 0, 0, 9],\n",
    "          [0, 0, 0, 0, 2, 8, 0, 7, 0]]\n",
    "            \n",
    "to_be_solved = Sudoku(sudoku1)\n",
    "to_be_solved.solve_sudoku_no_recursion()\n",
    "to_be_solved.printSudoku()\n",
    "    \n",
    "    \n",
    "    "
   ]
  },
  {
   "cell_type": "code",
   "execution_count": null,
   "metadata": {},
   "outputs": [],
   "source": [
    "to_be_solved.printSudoku()"
   ]
  },
  {
   "cell_type": "code",
   "execution_count": null,
   "metadata": {},
   "outputs": [],
   "source": []
  }
 ],
 "metadata": {
  "kernelspec": {
   "display_name": "Python 3",
   "language": "python",
   "name": "python3"
  },
  "language_info": {
   "codemirror_mode": {
    "name": "ipython",
    "version": 3
   },
   "file_extension": ".py",
   "mimetype": "text/x-python",
   "name": "python",
   "nbconvert_exporter": "python",
   "pygments_lexer": "ipython3",
   "version": "3.8.3"
  }
 },
 "nbformat": 4,
 "nbformat_minor": 4
}
